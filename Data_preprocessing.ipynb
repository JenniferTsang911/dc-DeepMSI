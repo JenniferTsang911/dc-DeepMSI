{
 "cells": [
  {
   "cell_type": "code",
   "execution_count": 4,
   "id": "baa27574b991d386",
   "metadata": {
    "collapsed": false
   },
   "outputs": [],
   "source": [
    "import pandas as pd\n",
    "import numpy as np"
   ]
  },
  {
   "cell_type": "code",
   "execution_count": 7,
   "id": "23afd13f74d87c92",
   "metadata": {
    "collapsed": false
   },
   "outputs": [
    {
     "name": "stdout",
     "output_type": "stream",
     "text": [
      "['adenocarcinoma' 'benign mucosa' 'submucosa' 'tissue' 'smooth muscle'\n",
      " 'inflammatory cells' 'serosa']\n"
     ]
    }
   ],
   "source": [
    "# Read the CSV file\n",
    "df = pd.read_csv(r\"all_aligned_no_background.csv\")\n",
    "\n",
    "# Select only the rows where 'Class' is not 'background'\n",
    "df = df[df['Class'] != 'other']\n",
    "\n",
    "# Get the unique classes in the 'Class' column\n",
    "unique_classes = df['Class'].unique()\n",
    "\n",
    "print(unique_classes)"
   ]
  },
  {
   "cell_type": "code",
   "execution_count": null,
   "metadata": {},
   "outputs": [],
   "source": [
    "# Save the new dataset as a CSV file\n",
    "df.to_csv(r\"all_aligned_no_background_others.csv\", index=False)"
   ]
  },
  {
   "cell_type": "code",
   "execution_count": 5,
   "metadata": {},
   "outputs": [],
   "source": [
    "# total ion current normalization (spectrum based)\n",
    "def tic_normalize(peaks):\n",
    "    tot_ion_cur = np.sum(peaks, axis=1)\n",
    "    peaks_ticn = np.empty(peaks.shape)\n",
    "    for i in range(len(peaks)):\n",
    "        if tot_ion_cur[i]!=0:\n",
    "            peaks_ticn[i] = peaks[i]/tot_ion_cur[i]\n",
    "    return peaks_ticn\n",
    "\n",
    "def ion_minmax_normalize(peaks):\n",
    "    max_ion_int = np.max(peaks, axis=0)\n",
    "    min_ion_int = np.min(peaks, axis=0)\n",
    "    peaks_ionorm = np.empty(peaks.shape)\n",
    "    for i in range(peaks.shape[1]):\n",
    "        if max_ion_int[i]!=min_ion_int[i]:\n",
    "            peaks_ionorm[:,i] = (peaks[:,i]-min_ion_int[i])/(max_ion_int[i]-min_ion_int[i])\n",
    "    return peaks_ionorm"
   ]
  },
  {
   "cell_type": "code",
   "execution_count": 7,
   "metadata": {},
   "outputs": [
    {
     "name": "stdout",
     "output_type": "stream",
     "text": [
      "                                  Slide           Class   X   Y  89.0243  \\\n",
      "0  2021 03 30 colon 0720931-3 Analyte 5  adenocarcinoma  88  89    115.0   \n",
      "1  2021 03 30 colon 0720931-3 Analyte 5  adenocarcinoma  88  90    105.0   \n",
      "2  2021 03 30 colon 0720931-3 Analyte 5  adenocarcinoma  89  87    180.0   \n",
      "3  2021 03 30 colon 0720931-3 Analyte 5  adenocarcinoma  89  88     68.0   \n",
      "4  2021 03 30 colon 0720931-3 Analyte 5  adenocarcinoma  89  89     88.0   \n",
      "\n",
      "   96.9674  115.0208  124.0079  145.0609  157.0312  ...  1331.7322  1373.7587  \\\n",
      "0      0.0      67.0     532.0      18.0       NaN  ...        0.0        0.0   \n",
      "1     19.0      92.0     273.0      22.0       NaN  ...        0.0        0.0   \n",
      "2     84.0      70.0     332.0      41.0       NaN  ...       22.0        0.0   \n",
      "3      0.0      28.0     294.0      41.0       NaN  ...        0.0        0.0   \n",
      "4     19.0     143.0     253.0      78.0       NaN  ...        0.0        0.0   \n",
      "\n",
      "   1374.76  1375.7596  1417.78  1418.7822  1419.7805  1461.8021  1462.808  \\\n",
      "0      0.0        0.0      0.0        0.0        0.0        0.0       0.0   \n",
      "1      0.0        0.0      0.0       23.0        0.0       19.0       0.0   \n",
      "2      0.0        2.0      0.0        0.0        0.0        0.0       0.0   \n",
      "3      0.0        0.0      0.0        0.0        0.0        0.0       0.0   \n",
      "4      0.0        0.0     21.0        0.0        0.0        0.0       0.0   \n",
      "\n",
      "   1463.8064  \n",
      "0        0.0  \n",
      "1        0.0  \n",
      "2        0.0  \n",
      "3        0.0  \n",
      "4        0.0  \n",
      "\n",
      "[5 rows x 2064 columns]\n"
     ]
    }
   ],
   "source": [
    "df = pd.read_csv(r\"C:\\Users\\jenni\\Documents\\GitHub\\dc-DeepMSI\\all_aligned_no_background_others.csv\")\n",
    "print(df.head())"
   ]
  },
  {
   "cell_type": "code",
   "execution_count": 8,
   "metadata": {},
   "outputs": [
    {
     "name": "stdout",
     "output_type": "stream",
     "text": [
      "                                  Slide           Class   X   Y   89.0243  \\\n",
      "0  2021 03 30 colon 0720931-3 Analyte 5  adenocarcinoma  88  89  0.011928   \n",
      "1  2021 03 30 colon 0720931-3 Analyte 5  adenocarcinoma  88  90  0.013172   \n",
      "2  2021 03 30 colon 0720931-3 Analyte 5  adenocarcinoma  89  87  0.012428   \n",
      "3  2021 03 30 colon 0720931-3 Analyte 5  adenocarcinoma  89  88  0.005192   \n",
      "4  2021 03 30 colon 0720931-3 Analyte 5  adenocarcinoma  89  89  0.005283   \n",
      "\n",
      "    96.9674  115.0208  124.0079  145.0609  157.0312  ...  1331.7322  \\\n",
      "0  0.000000  0.031504  0.137820  0.009702       0.0  ...   0.000000   \n",
      "1  0.024782  0.052320  0.085535  0.014342       0.0  ...   0.000000   \n",
      "2  0.060303  0.021911  0.057253  0.014711       0.0  ...   0.015974   \n",
      "3  0.000000  0.009693  0.056070  0.016269       0.0  ...   0.000000   \n",
      "4  0.011861  0.038923  0.037939  0.024337       0.0  ...   0.000000   \n",
      "\n",
      "   1373.7587  1374.76  1375.7596   1417.78  1418.7822  1419.7805  1461.8021  \\\n",
      "0        0.0      0.0   0.000000  0.000000   0.000000        0.0   0.000000   \n",
      "1        0.0      0.0   0.000000  0.000000   0.035716        0.0   0.011261   \n",
      "2        0.0      0.0   0.001326  0.000000   0.000000        0.0   0.000000   \n",
      "3        0.0      0.0   0.000000  0.000000   0.000000        0.0   0.000000   \n",
      "4        0.0      0.0   0.000000  0.008633   0.000000        0.0   0.000000   \n",
      "\n",
      "   1462.808  1463.8064  \n",
      "0       0.0        0.0  \n",
      "1       0.0        0.0  \n",
      "2       0.0        0.0  \n",
      "3       0.0        0.0  \n",
      "4       0.0        0.0  \n",
      "\n",
      "[5 rows x 2064 columns]\n"
     ]
    }
   ],
   "source": [
    "# Split the DataFrame\n",
    "df1 = df.iloc[:, :4]\n",
    "df2 = df.iloc[:, 4:]\n",
    "\n",
    "# Convert the second part of the DataFrame to a numpy array\n",
    "peaks = df2.to_numpy()\n",
    "peaks = np.nan_to_num(peaks)\n",
    "\n",
    "# Apply the normalization functions\n",
    "peaks_ticn = tic_normalize(peaks)\n",
    "peaks_ionorm = ion_minmax_normalize(peaks_ticn)\n",
    "\n",
    "# Convert the normalized numpy array back to a DataFrame\n",
    "df2_normalized = pd.DataFrame(peaks_ionorm, columns=df2.columns)\n",
    "\n",
    "# Concatenate the two DataFrames\n",
    "df_normalized = pd.concat([df1, df2_normalized], axis=1)\n",
    "\n",
    "# Save the resulting DataFrame to a new CSV file\n",
    "df_normalized.to_csv('all_aligned_no_background_others_preprocessed.csv', index=False)\n",
    "\n",
    "print(df_normalized.head())"
   ]
  }
 ],
 "metadata": {
  "kernelspec": {
   "display_name": "Python 3",
   "language": "python",
   "name": "python3"
  },
  "language_info": {
   "codemirror_mode": {
    "name": "ipython",
    "version": 3
   },
   "file_extension": ".py",
   "mimetype": "text/x-python",
   "name": "python",
   "nbconvert_exporter": "python",
   "pygments_lexer": "ipython3",
   "version": "3.7.16"
  }
 },
 "nbformat": 4,
 "nbformat_minor": 5
}
