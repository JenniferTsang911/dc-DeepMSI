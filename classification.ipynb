{
 "cells": [
  {
   "cell_type": "code",
   "execution_count": 25,
   "metadata": {},
   "outputs": [],
   "source": [
    "from sklearn.linear_model import LogisticRegression\n",
    "from sklearn.preprocessing import LabelEncoder, StandardScaler\n",
    "from sklearn.model_selection import train_test_split, GridSearchCV\n",
    "from sklearn.metrics import accuracy_score, confusion_matrix, classification_report\n",
    "from sklearn.decomposition import PCA\n",
    "from sklearn.discriminant_analysis import LinearDiscriminantAnalysis as LDA\n",
    "from sklearn.preprocessing import MinMaxScaler\n",
    "from sklearn.ensemble import RandomForestClassifier\n",
    "import matplotlib.cm as cm\n",
    "import pandas as pd\n",
    "import matplotlib.pyplot as plt\n",
    "import numpy as np\n",
    "from scipy import stats\n",
    "import torch\n",
    "import seaborn as sns\n",
    "\n",
    "\n",
    "from sklearn.tree import export_graphviz\n",
    "from IPython.display import Image\n",
    "import graphviz"
   ]
  },
  {
   "cell_type": "code",
   "execution_count": 3,
   "metadata": {},
   "outputs": [],
   "source": [
    "def get_test_train(output, csv_path, patch_size):\n",
    "    # Extract patches from the output feature maps\n",
    "    output_patches = output.unfold(1, patch_size, 1).unfold(2, patch_size, 1)\n",
    "    print(output_patches.size())\n",
    "\n",
    "    # Flatten the patches\n",
    "    output_patches_flattened = output_patches.reshape(output_patches.shape[0], -1)\n",
    "    print(output_patches_flattened.shape)\n",
    "\n",
    "    # Load the CSV file\n",
    "    df = pd.read_csv(csv_path)\n",
    "    df.fillna(0, inplace=True)\n",
    "\n",
    "    # Create a dictionary where the keys are the (X, Y) coordinates and the values are the class labels\n",
    "    csv_dict = {(row['X'], row['Y']): row for _, row in df.iterrows()}\n",
    "\n",
    "    # Initialize the features and labels\n",
    "    features = []\n",
    "    labels = []\n",
    "\n",
    "\n",
    "    # For each patch\n",
    "    for y in range(0, output.shape[0] - patch_size + 1):\n",
    "        for x in range(0, output.shape[1] - patch_size + 1):\n",
    "            # Get the class labels for the corresponding region in the CSV file\n",
    "            patch_labels = [csv_dict.get((x + dx, y + dy))['Class'] for dx in range(patch_size) for dy in range(patch_size) if csv_dict.get((x + dx, y + dy)) is not None]\n",
    "\n",
    "            # If there are any class labels for the corresponding region in the CSV file\n",
    "            if patch_labels:\n",
    "                # Get the most common class label in the region\n",
    "                most_common_label = stats.mode(patch_labels)[0][0]\n",
    "\n",
    "                features.append(np.concatenate([output_patches_flattened[y * output.shape[1] + x, :], df.loc[\n",
    "                                                    (df['X'] == x) & (df['Y'] == y), df.columns[3:]].mean().values]))\n",
    "\n",
    "                # Add the most common class label to the labels\n",
    "                labels.append(most_common_label)\n",
    "\n",
    "\n",
    "    # Handle NaN values\n",
    "    features = np.nan_to_num(features, nan=0.0)\n",
    "\n",
    "    # Encode the class labels as integers\n",
    "    le = LabelEncoder()\n",
    "    labels = le.fit_transform(labels)\n",
    "\n",
    "    # Split the features and labels into a training set and a test set\n",
    "    features_train, features_test, labels_train, labels_test = train_test_split(features, labels, test_size=0.2,\n",
    "                                                                                random_state=42)\n",
    "    return features_train, features_test, labels_train, labels_test"
   ]
  },
  {
   "cell_type": "code",
   "execution_count": 4,
   "metadata": {},
   "outputs": [],
   "source": [
    "# def logisticRegression(features_train, features_test, labels_train, labels_test):\n",
    "#     # Train the logistic regression model\n",
    "\n",
    "#     scaler = StandardScaler()\n",
    "#     features_train = scaler.fit_transform(features_train)\n",
    "#     features_test = scaler.transform(features_test)\n",
    "\n",
    "#     print(\"Training\")\n",
    "#     clf = LogisticRegression(max_iter=1000, solver= 'newton-cg')\n",
    "#     clf.fit(features_train, labels_train)\n",
    "\n",
    "\n",
    "#     print(\"Predicting\")\n",
    "#     predicted_labels = clf.predict(features_test)\n",
    "\n",
    "#     accuracy = accuracy_score(labels_test, predicted_labels)\n",
    "#     print(\"Accuracy: \" + str(accuracy))\n",
    "#     c_matrix = confusion_matrix(labels_test, predicted_labels)\n",
    "#     print(\"Confusion Matrix: \" + str(c_matrix))\n",
    "\n",
    "#     c_matrix = confusion_matrix(labels_test, predicted_labels)\n",
    "#     sns.heatmap(c_matrix, annot=True, fmt='d')\n",
    "#     plt.show()"
   ]
  },
  {
   "cell_type": "code",
   "execution_count": null,
   "metadata": {},
   "outputs": [],
   "source": [
    "def logisticRegression(features_train, features_test, labels_train, labels_test):\n",
    "    # Existing code...\n",
    "\n",
    "    # Define the parameter grid\n",
    "    param_grid = {\n",
    "        'C': [0.001, 0.01, 0.1, 1, 10, 100, 1000],\n",
    "        'penalty': ['l1', 'l2'],\n",
    "        'solver': ['newton-cg', 'lbfgs', 'liblinear', 'sag', 'saga']\n",
    "    }\n",
    "\n",
    "    # Create a GridSearchCV object\n",
    "    grid_search = GridSearchCV(LogisticRegression(max_iter=10000), param_grid, cv=5)\n",
    "\n",
    "    # Fit the GridSearchCV object to the data\n",
    "    grid_search.fit(features_train, labels_train)\n",
    "\n",
    "    # Print the best parameters\n",
    "    print(\"Best Parameters: \", grid_search.best_params_)\n",
    "\n",
    "    # Use the best model to make predictions\n",
    "    clf = grid_search.best_estimator_\n",
    "    predicted_labels = clf.predict(features_test)\n",
    "\n",
    "    accuracy = accuracy_score(labels_test, predicted_labels)\n",
    "    print(\"Accuracy: \" + str(accuracy))\n",
    "    c_matrix = confusion_matrix(labels_test, predicted_labels)\n",
    "    print(\"Confusion Matrix: \" + str(c_matrix))\n",
    "\n",
    "    c_matrix = confusion_matrix(labels_test, predicted_labels)\n",
    "    sns.heatmap(c_matrix, annot=True, fmt='d')\n",
    "    plt.show()"
   ]
  },
  {
   "cell_type": "code",
   "execution_count": 19,
   "metadata": {},
   "outputs": [],
   "source": [
    "def runRF(features_train, features_test, labels_train, labels_test):\n",
    "\trf_model = RandomForestClassifier()\n",
    "\trf_model.fit(features_train, labels_train)\n",
    "\ty_train_preds = rf_model.predict(features_train)\n",
    "\ty_train_prob = rf_model.predict_proba(features_train)\n",
    "\ty_test_preds = rf_model.predict(features_test)\n",
    "\ty_test_prob = rf_model.predict_proba(features_test)\n",
    "\t\n",
    "\taccuracy = accuracy_score(labels_test, y_test_preds)\n",
    "\tprint(\"Accuracy: \" + str(accuracy))\n",
    "\n",
    "\t# Print the confusion matrix\n",
    "\tc_matrix = confusion_matrix(labels_test, y_test_preds)\n",
    "\tprint(\"Confusion Matrix: \")\n",
    "\tprint(c_matrix)\n",
    "\n",
    "\t\t# Print the classification report\n",
    "\tprint(\"Classification Report: \")\n",
    "\tprint(classification_report(labels_test, y_test_preds))\n",
    "\n",
    "\t# Visualize the confusion matrix using a heatmap\n",
    "\tplt.figure(figsize=(10,7))\n",
    "\tsns.heatmap(c_matrix, annot=True, fmt='d')\n",
    "\tplt.xlabel('Predicted')\n",
    "\tplt.ylabel('Truth')\n",
    "\tplt.show()"
   ]
  },
  {
   "cell_type": "code",
   "execution_count": 21,
   "metadata": {},
   "outputs": [
    {
     "name": "stdout",
     "output_type": "stream",
     "text": [
      "torch.Size([50500, 96, 1, 5])\n",
      "torch.Size([50500, 480])\n"
     ]
    }
   ],
   "source": [
    "csv_path = r\"C:\\Users\\tsang\\Documents\\GitHub\\DESI-project\\2021 03 29 colon 0462641-2 Analyte 2_dataset balanced.csv\"\n",
    "patch_size = 5\n",
    "\n",
    "output = np.load(r\"C:\\Users\\tsang\\OneDrive - Queen's University\\DESI project\\DESI TXT colon\\dc-DeepMSI outputs\\2021 03 29 colon 0462641\\0462641-5 output.npy\")\n",
    "\n",
    "output = torch.from_numpy(output)\n",
    "#torch.Size([51980, 30]) torch.Size([51980, 30])\n",
    "\n",
    "features_train, features_test, labels_train, labels_test = get_test_train(output, csv_path, patch_size)"
   ]
  },
  {
   "cell_type": "code",
   "execution_count": 26,
   "metadata": {},
   "outputs": [
    {
     "name": "stderr",
     "output_type": "stream",
     "text": [
      "c:\\Users\\tsang\\anaconda3\\envs\\DESIproject\\lib\\site-packages\\sklearn\\linear_model\\_sag.py:354: ConvergenceWarning: The max_iter was reached which means the coef_ did not converge\n",
      "  ConvergenceWarning,\n",
      "c:\\Users\\tsang\\anaconda3\\envs\\DESIproject\\lib\\site-packages\\sklearn\\linear_model\\_sag.py:354: ConvergenceWarning: The max_iter was reached which means the coef_ did not converge\n",
      "  ConvergenceWarning,\n",
      "c:\\Users\\tsang\\anaconda3\\envs\\DESIproject\\lib\\site-packages\\sklearn\\linear_model\\_sag.py:354: ConvergenceWarning: The max_iter was reached which means the coef_ did not converge\n",
      "  ConvergenceWarning,\n"
     ]
    }
   ],
   "source": [
    "logisticRegression(features_train, features_test, labels_train, labels_test)"
   ]
  },
  {
   "cell_type": "code",
   "execution_count": 23,
   "metadata": {},
   "outputs": [
    {
     "name": "stdout",
     "output_type": "stream",
     "text": [
      "Accuracy: 0.8675282714054927\n",
      "Confusion Matrix: \n",
      "[[ 75   3   1   3   3]\n",
      " [ 18  82   0   5   2]\n",
      " [  0   0  88   9   6]\n",
      " [  1   4   2 174   7]\n",
      " [  2   0   1  15 118]]\n",
      "Classification Report: \n",
      "              precision    recall  f1-score   support\n",
      "\n",
      "           0       0.78      0.88      0.83        85\n",
      "           1       0.92      0.77      0.84       107\n",
      "           2       0.96      0.85      0.90       103\n",
      "           3       0.84      0.93      0.88       188\n",
      "           4       0.87      0.87      0.87       136\n",
      "\n",
      "    accuracy                           0.87       619\n",
      "   macro avg       0.87      0.86      0.86       619\n",
      "weighted avg       0.87      0.87      0.87       619\n",
      "\n"
     ]
    },
    {
     "data": {
      "image/png": "[encoded data removed]",
      "text/plain": [
       "<Figure size 1000x700 with 2 Axes>"
      ]
     },
     "metadata": {},
     "output_type": "display_data"
    }
   ],
   "source": [
    "runRF(features_train, features_test, labels_train, labels_test)"
   ]
  }
 ],
 "metadata": {
  "kernelspec": {
   "display_name": "DESIproject",
   "language": "python",
   "name": "python3"
  },
  "language_info": {
   "codemirror_mode": {
    "name": "ipython",
    "version": 3
   },
   "file_extension": ".py",
   "mimetype": "text/x-python",
   "name": "python",
   "nbconvert_exporter": "python",
   "pygments_lexer": "ipython3",
   "version": "3.7.16"
  }
 },
 "nbformat": 4,
 "nbformat_minor": 2
}
